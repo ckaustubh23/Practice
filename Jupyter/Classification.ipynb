{
 "cells": [
  {
   "cell_type": "markdown",
   "id": "31e5a40e",
   "metadata": {},
   "source": [
    "# Question : Why linear regression cannot be used as classification method?\n",
    "* Linear Regression deals with continuous values whereas classification problems mandate discrete values."
   ]
  },
  {
   "cell_type": "markdown",
   "id": "a6452baf",
   "metadata": {},
   "source": [
    "* True Positive:\n",
    "* * Actual Value = 1\n",
    "* * Predicted Value = 1\n",
    "\n",
    "* True Negative:\n",
    "* * Actual Value : 0\n",
    "* * Predicted Value: 0\n",
    "\n",
    "* False Postive: --> Type_1\n",
    "* * Actual : 0\n",
    "* * Predicted: 1\n",
    "\n",
    "* False Negative: --> Type_2\n",
    "* * Actual: 1\n",
    "* * Predicted: 0\n"
   ]
  },
  {
   "cell_type": "code",
   "execution_count": null,
   "id": "2a47e446",
   "metadata": {},
   "outputs": [],
   "source": []
  }
 ],
 "metadata": {
  "kernelspec": {
   "display_name": "Python 3 (ipykernel)",
   "language": "python",
   "name": "python3"
  },
  "language_info": {
   "codemirror_mode": {
    "name": "ipython",
    "version": 3
   },
   "file_extension": ".py",
   "mimetype": "text/x-python",
   "name": "python",
   "nbconvert_exporter": "python",
   "pygments_lexer": "ipython3",
   "version": "3.11.4"
  }
 },
 "nbformat": 4,
 "nbformat_minor": 5
}
