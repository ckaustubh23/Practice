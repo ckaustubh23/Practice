{
 "cells": [
  {
   "cell_type": "markdown",
   "id": "8358e349",
   "metadata": {},
   "source": [
    "# Question :\n",
    "* Why linear regression cannot be used as classification method?\n",
    "\n",
    "--> Linear Regression deals with continuous values whereas classification problems mandate discrete values"
   ]
  },
  {
   "cell_type": "code",
   "execution_count": null,
   "id": "d1519fec",
   "metadata": {},
   "outputs": [],
   "source": []
  }
 ],
 "metadata": {
  "kernelspec": {
   "display_name": "Python 3 (ipykernel)",
   "language": "python",
   "name": "python3"
  },
  "language_info": {
   "codemirror_mode": {
    "name": "ipython",
    "version": 3
   },
   "file_extension": ".py",
   "mimetype": "text/x-python",
   "name": "python",
   "nbconvert_exporter": "python",
   "pygments_lexer": "ipython3",
   "version": "3.11.4"
  }
 },
 "nbformat": 4,
 "nbformat_minor": 5
}
